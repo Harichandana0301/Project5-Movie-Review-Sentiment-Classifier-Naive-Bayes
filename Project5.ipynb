{
 "cells": [
  {
   "cell_type": "code",
   "execution_count": 1,
   "id": "2601ed86",
   "metadata": {},
   "outputs": [],
   "source": [
    "import os\n",
    "import re\n",
    "import unicodedata\n",
    "\n",
    "import matplotlib.pyplot as plt\n",
    "import nltk\n",
    "import pandas as pd\n",
    "import seaborn as sns\n",
    "import sklearn\n",
    "\n",
    "from nltk.corpus import stopwords\n",
    "from sklearn.feature_extraction.text import CountVectorizer\n",
    "from sklearn.metrics import (accuracy_score, classification_report,confusion_matrix)\n",
    "from sklearn.naive_bayes import MultinomialNB\n",
    "from sklearn.model_selection import train_test_split\n",
    "from nltk.sentiment import SentimentIntensityAnalyzer\n",
    "from collections import Counter"
   ]
  },
  {
   "cell_type": "code",
   "execution_count": 2,
   "id": "a4292bed",
   "metadata": {},
   "outputs": [
    {
     "name": "stderr",
     "output_type": "stream",
     "text": [
      "[nltk_data] Downloading package vader_lexicon to\n",
      "[nltk_data]     /Users/harichandanakotnani/nltk_data...\n",
      "[nltk_data]   Package vader_lexicon is already up-to-date!\n"
     ]
    },
    {
     "data": {
      "text/plain": [
       "True"
      ]
     },
     "execution_count": 2,
     "metadata": {},
     "output_type": "execute_result"
    }
   ],
   "source": [
    "import nltk\n",
    "nltk.download('vader_lexicon')  "
   ]
  },
  {
   "cell_type": "markdown",
   "id": "922b1f64",
   "metadata": {},
   "source": [
    "### Loading and Splitting the data "
   ]
  },
  {
   "cell_type": "code",
   "execution_count": 3,
   "id": "1f6c91cb",
   "metadata": {},
   "outputs": [],
   "source": [
    "def load_imdb_data(path):\n",
    "    # load data from CSV file\n",
    "    df = pd.read_csv(path)\n",
    "    # extract text and label columns\n",
    "    texts = df['review']\n",
    "    labels = df['sentiment']\n",
    "    # map 'positive' and 'negative' labels to 1 and 0, respectively\n",
    "    labels = labels.map({'positive': 1, 'negative': 0})\n",
    "    # return DataFrame with text and label columns\n",
    "    return pd.DataFrame({'text': texts, 'label': labels})"
   ]
  },
  {
   "cell_type": "code",
   "execution_count": 4,
   "id": "f198254b",
   "metadata": {},
   "outputs": [],
   "source": [
    "# load the dataset using the function we defined earlier\n",
    "data = load_imdb_data('IMDB Dataset.csv')\n",
    "\n",
    "# split the data into train and test sets\n",
    "train, test = train_test_split(data, test_size=0.2, random_state=42)\n",
    "\n",
    "# reset the index for both train and test DataFrames\n",
    "train = train.reset_index(drop=True)\n",
    "test = test.reset_index(drop=True)"
   ]
  },
  {
   "cell_type": "code",
   "execution_count": 5,
   "id": "a090c9fc",
   "metadata": {},
   "outputs": [
    {
     "name": "stdout",
     "output_type": "stream",
     "text": [
      "                                                text  label\n",
      "0  That's what I kept asking myself during the ma...      0\n",
      "1  I did not watch the entire movie. I could not ...      0\n",
      "2  A touching love story reminiscent of In the M...      1\n",
      "3  This latter-day Fulci schlocker is a totally a...      0\n",
      "4  First of all, I firmly believe that Norwegian ...      0\n",
      "5  I don't know how this movie received so many p...      0\n",
      "6  Nightmare Weekend stars a cast of ridiculous a...      0\n",
      "7  :::SPOILER ALERT:::<br /><br />Soooo, Arnie's ...      0\n",
      "8  The people who are bad-mouthing this film are ...      1\n",
      "9  <br /><br />As usual, I was really looking for...      0\n"
     ]
    }
   ],
   "source": [
    "print(train[:10])"
   ]
  },
  {
   "cell_type": "markdown",
   "id": "b9a3ebd2",
   "metadata": {},
   "source": [
    "### preprocessing \n",
    "\n",
    "Clean the training text"
   ]
  },
  {
   "cell_type": "code",
   "execution_count": 7,
   "id": "d0b13d9f",
   "metadata": {},
   "outputs": [],
   "source": [
    "import re\n",
    "import nltk\n",
    "\n",
    "\n",
    "def clean(text):\n",
    "    # Convert to lowercase\n",
    "    text = text.lower()\n",
    "    \n",
    "    # Remove URLs, email addresses, and phone numbers\n",
    "    text = re.sub(r'http\\S+', '', text)\n",
    "    text = re.sub(r'\\S+@\\S+', '', text)\n",
    "    text = re.sub(r'\\d{10}', '', text)\n",
    "    \n",
    "    # Remove special characters, punctuation, and emojis\n",
    "    text = re.sub(r'[^\\w\\s]', '', text)\n",
    "    text = re.sub(r'\\d+', '', text)\n",
    "    text = re.sub(r'_+', '', text)\n",
    "    text = re.sub(r'<br\\s*\\/?>', '', text)\n",
    "    text = text.replace('br', '')\n",
    "    text = re.sub(r'[^\\x00-\\x7F]+', '', text)\n",
    "    \n",
    "    # Remove extra white spaces, tabs, and newlines\n",
    "    text = re.sub(r'\\s+', ' ', text)\n",
    "    \n",
    "    # Remove language-specific stopwords\n",
    "    wnl = nltk.stem.WordNetLemmatizer()\n",
    "    stopwords = nltk.corpus.stopwords.words('english')\n",
    "    words = re.findall(r'\\w+', text)\n",
    "    words = [word for word in words if word not in stopwords]\n",
    "    \n",
    "    # Stemming\n",
    "    words = [wnl.lemmatize(word) for word in words]\n",
    "    \n",
    "    return ' '.join(words)\n"
   ]
  },
  {
   "cell_type": "code",
   "execution_count": 8,
   "id": "6888c118",
   "metadata": {},
   "outputs": [],
   "source": [
    "train['text'] = train['text'].apply(lambda x: clean(x))\n",
    "test['text'] = test['text'].apply(lambda x: clean(x))"
   ]
  },
  {
   "cell_type": "code",
   "execution_count": 9,
   "id": "c9fc038b",
   "metadata": {},
   "outputs": [
    {
     "name": "stdout",
     "output_type": "stream",
     "text": [
      "                                                text  label\n",
      "0  thats kept asking many fight screaming match s...      0\n",
      "1  watch entire movie could watch entire movie st...      0\n",
      "2  touching love story reminiscent mood love draw...      1\n",
      "3  latterday fulci schlocker totally abysmal conc...      0\n",
      "4  first firmly believe norwegian movie continual...      0\n",
      "5  dont know movie received many positive review ...      0\n",
      "6  nightmare weekend star cast ridiculous actor e...      0\n",
      "7  spoiler alert soooo arnies really good guy inc...      0\n",
      "8  people badmouthing film dont understand film b...      1\n",
      "9  usual really looking forward new tvfilm favour...      0\n"
     ]
    }
   ],
   "source": [
    "print(train[:10])"
   ]
  },
  {
   "cell_type": "code",
   "execution_count": 10,
   "id": "4a25c5e8",
   "metadata": {},
   "outputs": [],
   "source": [
    "def generate_ngrams(text, n):\n",
    "    tokens = nltk.word_tokenize(text)\n",
    "    ngrams = list(nltk.ngrams(tokens, n))\n",
    "    return [' '.join(gram) for gram in ngrams]"
   ]
  },
  {
   "cell_type": "code",
   "execution_count": 11,
   "id": "7860a7e1",
   "metadata": {},
   "outputs": [],
   "source": [
    "train['bigrams'] = train['text'].apply(lambda x: generate_ngrams(x, 2))"
   ]
  },
  {
   "cell_type": "markdown",
   "id": "bf71b45f",
   "metadata": {},
   "source": [
    "### word vectorizer"
   ]
  },
  {
   "cell_type": "code",
   "execution_count": 12,
   "id": "a320687b",
   "metadata": {},
   "outputs": [
    {
     "data": {
      "text/plain": [
       "<40000x10000 sparse matrix of type '<class 'numpy.int64'>'\n",
       "\twith 753805 stored elements in Compressed Sparse Row format>"
      ]
     },
     "execution_count": 12,
     "metadata": {},
     "output_type": "execute_result"
    }
   ],
   "source": [
    "vectorizer = CountVectorizer(max_features=10000, ngram_range=(2, 2))\n",
    "X_train_vectors = vectorizer.fit_transform(train['text'])\n",
    "X_train_vectors"
   ]
  },
  {
   "cell_type": "code",
   "execution_count": 13,
   "id": "c4bcbf05",
   "metadata": {},
   "outputs": [
    {
     "data": {
      "text/plain": [
       "<1x10000 sparse matrix of type '<class 'numpy.int64'>'\n",
       "\twith 26 stored elements in Compressed Sparse Row format>"
      ]
     },
     "execution_count": 13,
     "metadata": {},
     "output_type": "execute_result"
    }
   ],
   "source": [
    "X_train_vectors[0]"
   ]
  },
  {
   "cell_type": "code",
   "execution_count": 14,
   "id": "27022e7a",
   "metadata": {},
   "outputs": [
    {
     "name": "stderr",
     "output_type": "stream",
     "text": [
      "/Users/harichandanakotnani/opt/anaconda3/lib/python3.9/site-packages/sklearn/utils/deprecation.py:87: FutureWarning: Function get_feature_names is deprecated; get_feature_names is deprecated in 1.0 and will be removed in 1.2. Please use get_feature_names_out instead.\n",
      "  warnings.warn(msg, category=FutureWarning)\n"
     ]
    },
    {
     "data": {
      "text/plain": [
       "['absolutely awful',\n",
       " 'absolutely fantastic',\n",
       " 'absolutely hilarious',\n",
       " 'absolutely horrible',\n",
       " 'absolutely illiant',\n",
       " 'absolutely love',\n",
       " 'absolutely loved',\n",
       " 'absolutely nothing',\n",
       " 'absolutely perfect',\n",
       " 'absolutely sense',\n",
       " 'absolutely stunning',\n",
       " 'absolutely terrible',\n",
       " 'academy award',\n",
       " 'accidentally kill',\n",
       " 'across board',\n",
       " 'across country',\n",
       " 'across movie',\n",
       " 'across screen',\n",
       " 'act like',\n",
       " 'act way']"
      ]
     },
     "execution_count": 14,
     "metadata": {},
     "output_type": "execute_result"
    }
   ],
   "source": [
    "vectorizer.get_feature_names()[10:30]"
   ]
  },
  {
   "cell_type": "code",
   "execution_count": 15,
   "id": "4a8c8c18",
   "metadata": {},
   "outputs": [],
   "source": [
    "analyzer = SentimentIntensityAnalyzer()\n",
    "train['bigram_sentiment'] = train['bigrams'].apply(lambda x: [analyzer.polarity_scores(gram)['compound'] for gram in x])\n"
   ]
  },
  {
   "cell_type": "code",
   "execution_count": 16,
   "id": "9c0f40ea",
   "metadata": {},
   "outputs": [
    {
     "name": "stderr",
     "output_type": "stream",
     "text": [
      "/var/folders/7x/qs_7dnj90g55d5h3f4vzdcp00000gn/T/ipykernel_54645/3213857361.py:1: UserWarning: Boolean Series key will be reindexed to match DataFrame index.\n",
      "  positive_bigrams = train.explode('bigram_sentiment')[train['label'] == 1]['bigram_sentiment']\n",
      "/var/folders/7x/qs_7dnj90g55d5h3f4vzdcp00000gn/T/ipykernel_54645/3213857361.py:2: UserWarning: Boolean Series key will be reindexed to match DataFrame index.\n",
      "  negative_bigrams = train.explode('bigram_sentiment')[train['label'] == 0]['bigram_sentiment']\n"
     ]
    },
    {
     "name": "stdout",
     "output_type": "stream",
     "text": [
      "Top 10 positive bigrams:\n",
      "16573    0.401658\n",
      "14144    0.397809\n",
      "36740    0.368658\n",
      "14290    0.362979\n",
      "31547    0.362963\n",
      "33311    0.362963\n",
      "23276    0.351412\n",
      "36893    0.351365\n",
      "16262    0.349462\n",
      "12710    0.348179\n",
      "Name: bigram_sentiment, dtype: float64\n",
      "Top 10 negative bigrams:\n",
      "27791   -0.392827\n",
      "22604   -0.359557\n",
      "18834   -0.300046\n",
      "29971   -0.300046\n",
      "26177   -0.299444\n",
      "4647    -0.266767\n",
      "30999   -0.265643\n",
      "9651    -0.253060\n",
      "22203   -0.250850\n",
      "17093   -0.248315\n",
      "Name: bigram_sentiment, dtype: float64\n"
     ]
    }
   ],
   "source": [
    "positive_bigrams = train.explode('bigram_sentiment')[train['label'] == 1]['bigram_sentiment']\n",
    "negative_bigrams = train.explode('bigram_sentiment')[train['label'] == 0]['bigram_sentiment']\n",
    "\n",
    "positive_bigrams_mean = positive_bigrams.groupby(positive_bigrams.index).mean()\n",
    "negative_bigrams_mean = negative_bigrams.groupby(negative_bigrams.index).mean()\n",
    "\n",
    "print('Top 10 positive bigrams:')\n",
    "print(positive_bigrams_mean.sort_values(ascending=False)[:10])\n",
    "\n",
    "print('Top 10 negative bigrams:')\n",
    "print(negative_bigrams_mean.sort_values(ascending=True)[:10])\n"
   ]
  },
  {
   "cell_type": "markdown",
   "id": "cf912829",
   "metadata": {},
   "source": [
    "#### EDA"
   ]
  },
  {
   "cell_type": "code",
   "execution_count": 17,
   "id": "dff356e5",
   "metadata": {},
   "outputs": [
    {
     "name": "stderr",
     "output_type": "stream",
     "text": [
      "/Users/harichandanakotnani/opt/anaconda3/lib/python3.9/site-packages/sklearn/utils/deprecation.py:87: FutureWarning: Function get_feature_names is deprecated; get_feature_names is deprecated in 1.0 and will be removed in 1.2. Please use get_feature_names_out instead.\n",
      "  warnings.warn(msg, category=FutureWarning)\n"
     ]
    },
    {
     "data": {
      "image/png": "[encoded data removed]",
      "text/plain": [
       "<Figure size 1200x600 with 2 Axes>"
      ]
     },
     "metadata": {},
     "output_type": "display_data"
    }
   ],
   "source": [
    "# define the n-gram range and maximum number of features\n",
    "ngram_range = (1, 2)\n",
    "max_features = 10000\n",
    "\n",
    "# instantiate the count vectorizer with the specified n-gram range and maximum number of features\n",
    "vectorizer = CountVectorizer(ngram_range=ngram_range, max_features=max_features)\n",
    "\n",
    "# fit and transform the training data\n",
    "X_train_vectors = vectorizer.fit_transform(train['text'])\n",
    "\n",
    "# get the feature names\n",
    "feature_names = vectorizer.get_feature_names()\n",
    "\n",
    "# get the top occurring n-grams for positive and negative reviews\n",
    "top_ngrams_pos = pd.Series(X_train_vectors[train['label']==1].sum(axis=0).A1, index=feature_names).sort_values(ascending=False)[:10]\n",
    "top_ngrams_neg = pd.Series(X_train_vectors[train['label']==0].sum(axis=0).A1, index=feature_names).sort_values(ascending=False)[:10]\n",
    "\n",
    "# plot the bar chart for top occurring n-grams in positive and negative reviews\n",
    "fig, ax = plt.subplots(1, 2, figsize=(12, 6))\n",
    "ax[0].barh(top_ngrams_pos.index, top_ngrams_pos.values, color='green')\n",
    "ax[0].set_title('Top 10 N-grams in Positive Reviews')\n",
    "ax[1].barh(top_ngrams_neg.index, top_ngrams_neg.values, color='red')\n",
    "ax[1].set_title('Top 10 N-grams in Negative Reviews')\n",
    "plt.tight_layout()\n",
    "plt.show()\n"
   ]
  },
  {
   "cell_type": "code",
   "execution_count": 18,
   "id": "cddbfb63",
   "metadata": {},
   "outputs": [
    {
     "data": {
      "image/png": "[encoded data removed]",
      "text/plain": [
       "<Figure size 640x480 with 1 Axes>"
      ]
     },
     "metadata": {},
     "output_type": "display_data"
    }
   ],
   "source": [
    "# Word Frequency Analysis\n",
    "all_reviews = ' '.join(train['text'])\n",
    "\n",
    "# split the string into individual words\n",
    "all_words = all_reviews.split()\n",
    "\n",
    "# count the frequency of each word\n",
    "word_counts = Counter(all_words)\n",
    "\n",
    "# create a dataframe of the top 20 most common words\n",
    "top_words = pd.DataFrame(word_counts.most_common(20), columns=['word', 'count'])\n",
    "\n",
    "# plot the word frequency distribution\n",
    "top_words.plot(kind='bar', x='word')\n",
    "plt.title('Top 20 Most Common Words')\n",
    "plt.xlabel('Word')\n",
    "plt.ylabel('Count')\n",
    "plt.show()"
   ]
  },
  {
   "cell_type": "markdown",
   "id": "715f4373",
   "metadata": {},
   "source": [
    "### Multinomial Naive Bayes\n",
    "\n",
    "Training using our training data"
   ]
  },
  {
   "cell_type": "code",
   "execution_count": 19,
   "id": "0e507965",
   "metadata": {},
   "outputs": [
    {
     "data": {
      "text/plain": [
       "MultinomialNB()"
      ]
     },
     "execution_count": 19,
     "metadata": {},
     "output_type": "execute_result"
    }
   ],
   "source": [
    "model = MultinomialNB()\n",
    "model.fit(X_train_vectors, train['label'])"
   ]
  },
  {
   "cell_type": "code",
   "execution_count": 20,
   "id": "b3da6d66",
   "metadata": {},
   "outputs": [
    {
     "data": {
      "text/plain": [
       "0.868825"
      ]
     },
     "execution_count": 20,
     "metadata": {},
     "output_type": "execute_result"
    }
   ],
   "source": [
    "model.score(X_train_vectors, train['label'])"
   ]
  },
  {
   "cell_type": "markdown",
   "id": "b4e2b33b",
   "metadata": {},
   "source": [
    "### Testing\n",
    "Vectorize"
   ]
  },
  {
   "cell_type": "code",
   "execution_count": 21,
   "id": "a9dfccf4",
   "metadata": {},
   "outputs": [
    {
     "data": {
      "text/plain": [
       "<10000x10000 sparse matrix of type '<class 'numpy.int64'>'\n",
       "\twith 942523 stored elements in Compressed Sparse Row format>"
      ]
     },
     "execution_count": 21,
     "metadata": {},
     "output_type": "execute_result"
    }
   ],
   "source": [
    "X_test_vectors = vectorizer.transform(test['text'])\n",
    "X_test_vectors"
   ]
  },
  {
   "cell_type": "markdown",
   "id": "f97a22f8",
   "metadata": {},
   "source": [
    "#### evaluate classifier on test data"
   ]
  },
  {
   "cell_type": "code",
   "execution_count": 22,
   "id": "40875f4b",
   "metadata": {},
   "outputs": [
    {
     "data": {
      "text/plain": [
       "array([0, 1, 0, ..., 1, 0, 0])"
      ]
     },
     "execution_count": 22,
     "metadata": {},
     "output_type": "execute_result"
    }
   ],
   "source": [
    "y_test_hat = model.predict(X_test_vectors)\n",
    "y_test_hat"
   ]
  },
  {
   "cell_type": "markdown",
   "id": "8a4cf324",
   "metadata": {},
   "source": [
    "#### accuracy score"
   ]
  },
  {
   "cell_type": "code",
   "execution_count": 23,
   "id": "e9a5f9b6",
   "metadata": {},
   "outputs": [
    {
     "data": {
      "text/plain": [
       "0.8571"
      ]
     },
     "execution_count": 23,
     "metadata": {},
     "output_type": "execute_result"
    }
   ],
   "source": [
    "accuracy_score(test.label, y_test_hat)"
   ]
  },
  {
   "cell_type": "markdown",
   "id": "27ba11d0",
   "metadata": {},
   "source": [
    "### Results"
   ]
  },
  {
   "cell_type": "code",
   "execution_count": 33,
   "id": "ebb45ce2",
   "metadata": {},
   "outputs": [
    {
     "name": "stdout",
     "output_type": "stream",
     "text": [
      "              precision    recall  f1-score   support\n",
      "\n",
      "           0       0.86      0.85      0.86      4961\n",
      "           1       0.86      0.86      0.86      5039\n",
      "\n",
      "    accuracy                           0.86     10000\n",
      "   macro avg       0.86      0.86      0.86     10000\n",
      "weighted avg       0.86      0.86      0.86     10000\n",
      "\n"
     ]
    }
   ],
   "source": [
    "print(classification_report(test['label'], y_test_hat))"
   ]
  },
  {
   "cell_type": "code",
   "execution_count": 25,
   "id": "966ee5d6",
   "metadata": {},
   "outputs": [
    {
     "name": "stdout",
     "output_type": "stream",
     "text": [
      "Confusion Matrix:\n",
      "[[4238  723]\n",
      " [ 706 4333]]\n"
     ]
    }
   ],
   "source": [
    "print(\"Confusion Matrix:\")\n",
    "print(confusion_matrix(test.label, y_test_hat))"
   ]
  },
  {
   "cell_type": "code",
   "execution_count": 26,
   "id": "39d363d6",
   "metadata": {},
   "outputs": [
    {
     "data": {
      "image/png": "[encoded data removed]",
      "text/plain": [
       "<Figure size 640x480 with 1 Axes>"
      ]
     },
     "metadata": {},
     "output_type": "display_data"
    }
   ],
   "source": [
    "sns.heatmap(pd.DataFrame(confusion_matrix(test.label, y_test_hat)), annot=True, cmap=\"Purples\", fmt=\"d\", cbar=False, xticklabels=['Negative', 'Positive'], yticklabels=['Negative', 'Positive'])\n",
    "plt.ylabel('Actual Label')\n",
    "plt.xlabel('Predicted Label');"
   ]
  },
  {
   "cell_type": "code",
   "execution_count": null,
   "id": "e3c16fb1",
   "metadata": {},
   "outputs": [],
   "source": []
  }
 ],
 "metadata": {
  "kernelspec": {
   "display_name": "Python 3 (ipykernel)",
   "language": "python",
   "name": "python3"
  },
  "language_info": {
   "codemirror_mode": {
    "name": "ipython",
    "version": 3
   },
   "file_extension": ".py",
   "mimetype": "text/x-python",
   "name": "python",
   "nbconvert_exporter": "python",
   "pygments_lexer": "ipython3",
   "version": "3.9.13"
  }
 },
 "nbformat": 4,
 "nbformat_minor": 5
}
